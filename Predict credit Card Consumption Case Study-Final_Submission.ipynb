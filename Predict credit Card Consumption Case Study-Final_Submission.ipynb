{
 "cells": [
  {
   "cell_type": "markdown",
   "id": "2efeb999",
   "metadata": {},
   "source": [
    "### <center> Predict Credit Consumption of Customer For Leading Bank 🏦</center> \n"
   ]
  },
  {
   "cell_type": "markdown",
   "id": "d3890dfe",
   "metadata": {},
   "source": [
    "### Steps that we will follow:\n",
    "1. Introduction To Problem ❓\n",
    "2. Identification of a Machine Learning type (Supervised, Unsupervised, Semi-Supervised, Reinforcement)🔎\n",
    "2. Data Collection and Info 🛠\n",
    "3. Exploratory Data Analysis📊\n",
    "3. Data Preprocessing🧬\n",
    "4. Split the dataset into train-test🌓\n",
    "5. Model building 🏗\n",
    "6. Metrics Evaluation📝\n",
    "7. Model Selection ✔\n",
    "7. Predict the data🎯"
   ]
  },
  {
   "cell_type": "markdown",
   "id": "aaee52fd",
   "metadata": {},
   "source": [
    "### Business Problem:\n",
    "\n",
    "Analytics powers industries through diverse tech platforms gathering insights from sources, deciphering customer desires. The Credit Card sector, data-rich too, taps limitless ways to fathom consumer behavior. Credit card data reveals consumer types and spending patterns, fueling precise marketing campaigns that boost sales and revenue.\n",
    "\n",
    "A leading bank aims to analyze three months of data (April, May, June) encompassing customer demographics, behavioral insights (liabilities, assets, transaction history), credit card spending for the past three months, and projected spending for the next three months (July, August, September). This endeavor underscores the bank's commitment to data-driven decision-making and strategic planning for enhancing customer experiences and managing credit consumption effectively."
   ]
  },
  {
   "cell_type": "markdown",
   "id": "6544d471",
   "metadata": {},
   "source": [
    "### Identification of a Machine Learning type:\n",
    "\n",
    "We have labeled datasets to train algorithms for outcome prediction. It is a Supervised Learning Machine Learning type. We have to predict the credit card consumption for next three months. So it a regression based problem."
   ]
  },
  {
   "cell_type": "markdown",
   "id": "49416518",
   "metadata": {},
   "source": [
    "### Data Collection and Information Analysis"
   ]
  },
  {
   "cell_type": "markdown",
   "id": "f770dbf9",
   "metadata": {},
   "source": [
    "#### Import required libraries"
   ]
  },
  {
   "cell_type": "code",
   "execution_count": 64,
   "id": "0a80d9b0",
   "metadata": {},
   "outputs": [],
   "source": [
    "import numpy as np\n",
    "import pandas as pd\n",
    "import matplotlib.pyplot as plt\n",
    "import seaborn as sns\n",
    "import matplotlib.pyplot as plt\n",
    "# package for hypothesis testing or statistical testing\n",
    "from scipy import stats\n",
    "# package for statistical models\n",
    "import statsmodels.formula.api as smf   # for statistical modelling\n",
    "from sklearn.model_selection import train_test_split\n",
    "# Model selection\n",
    "from sklearn.linear_model import LinearRegression, Ridge, Lasso\n",
    "from sklearn.ensemble import AdaBoostRegressor, BaggingRegressor, RandomForestRegressor, GradientBoostingRegressor\n",
    "from sklearn.tree import DecisionTreeRegressor\n",
    "from sklearn.svm import SVR\n",
    "import xgboost as XGBRegressor \n",
    "from sklearn.neighbors import KNeighborsRegressor\n",
    "from sklearn.preprocessing import StandardScaler, MinMaxScaler\n",
    "from sklearn.preprocessing import LabelEncoder\n",
    "# accuracy measures: mae, mape, mse, r2_score\n",
    "from sklearn.metrics import mean_absolute_error, mean_absolute_percentage_error, mean_squared_error, r2_score\n",
    "import warnings\n",
    "import math"
   ]
  },
  {
   "cell_type": "code",
   "execution_count": 65,
   "id": "054ee25e",
   "metadata": {},
   "outputs": [],
   "source": [
    "warnings.filterwarnings('ignore')"
   ]
  },
  {
   "cell_type": "markdown",
   "id": "4c691508",
   "metadata": {},
   "source": [
    "#### Data Availability:\n",
    "\n",
    "We have three excel file. We will import the files and merge the files to create one dataset."
   ]
  },
  {
   "cell_type": "code",
   "execution_count": 66,
   "id": "c0e5ae1d",
   "metadata": {},
   "outputs": [],
   "source": [
    "# Import credit consumption data\n",
    "ccd = pd.read_excel(\"E:\\\\CS\\\\DS360\\\\DS360-20230716T150307Z-001\\\\DS360\\\\Data Science 360\\\\Data Science 360\\\\Machine Learning\\\\Case Studies\\\\Evaluation Case Study\\\\Predict Cred Card Consumption\\\\CreditConsumptionData.xlsx\")"
   ]
  },
  {
   "cell_type": "code",
   "execution_count": 67,
   "id": "bc8b1c15",
   "metadata": {},
   "outputs": [
    {
     "data": {
      "text/plain": [
       "(20000, 2)"
      ]
     },
     "execution_count": 67,
     "metadata": {},
     "output_type": "execute_result"
    }
   ],
   "source": [
    "ccd.shape"
   ]
  },
  {
   "cell_type": "code",
   "execution_count": 68,
   "id": "0b906200",
   "metadata": {},
   "outputs": [
    {
     "name": "stdout",
     "output_type": "stream",
     "text": [
      "<class 'pandas.core.frame.DataFrame'>\n",
      "RangeIndex: 20000 entries, 0 to 19999\n",
      "Data columns (total 2 columns):\n",
      " #   Column   Non-Null Count  Dtype  \n",
      "---  ------   --------------  -----  \n",
      " 0   ID       20000 non-null  int64  \n",
      " 1   cc_cons  15000 non-null  float64\n",
      "dtypes: float64(1), int64(1)\n",
      "memory usage: 312.6 KB\n"
     ]
    }
   ],
   "source": [
    "ccd.info()"
   ]
  },
  {
   "cell_type": "code",
   "execution_count": 69,
   "id": "74d1ab68",
   "metadata": {},
   "outputs": [],
   "source": [
    "# Import consumer behavior data\n",
    "cbd = pd.read_excel(\"E:\\\\CS\\\\DS360\\\\DS360-20230716T150307Z-001\\\\DS360\\\\Data Science 360\\\\Data Science 360\\\\Machine Learning\\\\Case Studies\\\\Evaluation Case Study\\\\Predict Cred Card Consumption\\\\CustomerBehaviorData.xlsx\")"
   ]
  },
  {
   "cell_type": "code",
   "execution_count": 70,
   "id": "d4103d3d",
   "metadata": {},
   "outputs": [
    {
     "data": {
      "text/plain": [
       "(20000, 39)"
      ]
     },
     "execution_count": 70,
     "metadata": {},
     "output_type": "execute_result"
    }
   ],
   "source": [
    "cbd.shape # Check consumer behavior data dataframe shape"
   ]
  },
  {
   "cell_type": "code",
   "execution_count": 71,
   "id": "46ed7a60",
   "metadata": {},
   "outputs": [
    {
     "name": "stdout",
     "output_type": "stream",
     "text": [
      "<class 'pandas.core.frame.DataFrame'>\n",
      "RangeIndex: 20000 entries, 0 to 19999\n",
      "Data columns (total 39 columns):\n",
      " #   Column                 Non-Null Count  Dtype  \n",
      "---  ------                 --------------  -----  \n",
      " 0   ID                     20000 non-null  int64  \n",
      " 1   cc_cons_apr            20000 non-null  float64\n",
      " 2   dc_cons_apr            20000 non-null  float64\n",
      " 3   cc_cons_may            19999 non-null  float64\n",
      " 4   dc_cons_may            20000 non-null  float64\n",
      " 5   cc_cons_jun            20000 non-null  float64\n",
      " 6   dc_cons_jun            19999 non-null  float64\n",
      " 7   cc_count_apr           19999 non-null  float64\n",
      " 8   cc_count_may           20000 non-null  int64  \n",
      " 9   cc_count_jun           20000 non-null  int64  \n",
      " 10  dc_count_apr           20000 non-null  int64  \n",
      " 11  dc_count_may           20000 non-null  int64  \n",
      " 12  dc_count_jun           20000 non-null  int64  \n",
      " 13  card_lim               20000 non-null  int64  \n",
      " 14  personal_loan_active   20000 non-null  int64  \n",
      " 15  vehicle_loan_active    20000 non-null  int64  \n",
      " 16  personal_loan_closed   19999 non-null  float64\n",
      " 17  vehicle_loan_closed    20000 non-null  int64  \n",
      " 18  investment_1           20000 non-null  float64\n",
      " 19  investment_2           20000 non-null  float64\n",
      " 20  investment_3           19998 non-null  float64\n",
      " 21  investment_4           20000 non-null  float64\n",
      " 22  debit_amount_apr       20000 non-null  float64\n",
      " 23  credit_amount_apr      20000 non-null  float64\n",
      " 24  debit_count_apr        19999 non-null  float64\n",
      " 25  credit_count_apr       20000 non-null  int64  \n",
      " 26  max_credit_amount_apr  20000 non-null  float64\n",
      " 27  debit_amount_may       20000 non-null  float64\n",
      " 28  credit_amount_may      20000 non-null  float64\n",
      " 29  credit_count_may       20000 non-null  int64  \n",
      " 30  debit_count_may        20000 non-null  int64  \n",
      " 31  max_credit_amount_may  20000 non-null  float64\n",
      " 32  debit_amount_jun       20000 non-null  float64\n",
      " 33  credit_amount_jun      20000 non-null  float64\n",
      " 34  credit_count_jun       20000 non-null  int64  \n",
      " 35  debit_count_jun        20000 non-null  int64  \n",
      " 36  max_credit_amount_jun  20000 non-null  float64\n",
      " 37  loan_enq               19998 non-null  object \n",
      " 38  emi_active             19999 non-null  float64\n",
      "dtypes: float64(23), int64(15), object(1)\n",
      "memory usage: 6.0+ MB\n"
     ]
    }
   ],
   "source": [
    "cbd.info() # Check consumer behavior data info"
   ]
  },
  {
   "cell_type": "code",
   "execution_count": 210,
   "id": "46e09276",
   "metadata": {},
   "outputs": [],
   "source": [
    "# Import Customer demographics\n",
    "cust_demo = pd.read_excel(\"E:\\\\CS\\\\DS360\\\\DS360-20230716T150307Z-001\\\\DS360\\\\Data Science 360\\\\Data Science 360\\\\Machine Learning\\\\Case Studies\\\\Evaluation Case Study\\\\Predict Cred Card Consumption\\\\CustomerDemographics.xlsx\")"
   ]
  },
  {
   "cell_type": "code",
   "execution_count": 211,
   "id": "c82de8c2",
   "metadata": {},
   "outputs": [
    {
     "data": {
      "text/plain": [
       "(20000, 10)"
      ]
     },
     "execution_count": 211,
     "metadata": {},
     "output_type": "execute_result"
    }
   ],
   "source": [
    "cust_demo.shape # Check customer demographics data dataframe shape"
   ]
  },
  {
   "cell_type": "code",
   "execution_count": 212,
   "id": "60065eb4",
   "metadata": {},
   "outputs": [
    {
     "name": "stdout",
     "output_type": "stream",
     "text": [
      "<class 'pandas.core.frame.DataFrame'>\n",
      "RangeIndex: 20000 entries, 0 to 19999\n",
      "Data columns (total 10 columns):\n",
      " #   Column                        Non-Null Count  Dtype  \n",
      "---  ------                        --------------  -----  \n",
      " 0   ID                            20000 non-null  int64  \n",
      " 1   account_type                  19999 non-null  object \n",
      " 2   gender                        19999 non-null  object \n",
      " 3   age                           20000 non-null  int64  \n",
      " 4   Income                        19999 non-null  object \n",
      " 5   Emp_Tenure_Years              20000 non-null  float64\n",
      " 6   Tenure_with_Bank              20000 non-null  int64  \n",
      " 7   region_code                   19999 non-null  float64\n",
      " 8   NetBanking_Flag               20000 non-null  int64  \n",
      " 9   Avg_days_between_transaction  19997 non-null  float64\n",
      "dtypes: float64(3), int64(4), object(3)\n",
      "memory usage: 1.5+ MB\n"
     ]
    }
   ],
   "source": [
    "cust_demo.info() # Check customer demographics data info"
   ]
  },
  {
   "cell_type": "code",
   "execution_count": 213,
   "id": "1c312b00",
   "metadata": {},
   "outputs": [],
   "source": [
    "# Merge Data set\n",
    "df1 = pd.merge(left = ccd, right =cbd , how = 'left', on = 'ID')"
   ]
  },
  {
   "cell_type": "code",
   "execution_count": 214,
   "id": "e8f119a5",
   "metadata": {},
   "outputs": [
    {
     "data": {
      "text/plain": [
       "(20000, 40)"
      ]
     },
     "execution_count": 214,
     "metadata": {},
     "output_type": "execute_result"
    }
   ],
   "source": [
    "df1.shape"
   ]
  },
  {
   "cell_type": "code",
   "execution_count": 215,
   "id": "5c759c78",
   "metadata": {},
   "outputs": [],
   "source": [
    "#Merge Dataset\n",
    "df = pd.merge(left = df1, right =cust_demo , how = 'left', on = 'ID')"
   ]
  },
  {
   "cell_type": "code",
   "execution_count": 216,
   "id": "4ae449c1",
   "metadata": {},
   "outputs": [
    {
     "data": {
      "text/plain": [
       "(20000, 49)"
      ]
     },
     "execution_count": 216,
     "metadata": {},
     "output_type": "execute_result"
    }
   ],
   "source": [
    "df.shape"
   ]
  },
  {
   "cell_type": "code",
   "execution_count": 217,
   "id": "f54164a6",
   "metadata": {},
   "outputs": [
    {
     "data": {
      "text/html": [
       "<div>\n",
       "<style scoped>\n",
       "    .dataframe tbody tr th:only-of-type {\n",
       "        vertical-align: middle;\n",
       "    }\n",
       "\n",
       "    .dataframe tbody tr th {\n",
       "        vertical-align: top;\n",
       "    }\n",
       "\n",
       "    .dataframe thead th {\n",
       "        text-align: right;\n",
       "    }\n",
       "</style>\n",
       "<table border=\"1\" class=\"dataframe\">\n",
       "  <thead>\n",
       "    <tr style=\"text-align: right;\">\n",
       "      <th></th>\n",
       "      <th>ID</th>\n",
       "      <th>cc_cons</th>\n",
       "      <th>cc_cons_apr</th>\n",
       "      <th>dc_cons_apr</th>\n",
       "      <th>cc_cons_may</th>\n",
       "      <th>dc_cons_may</th>\n",
       "      <th>cc_cons_jun</th>\n",
       "      <th>dc_cons_jun</th>\n",
       "      <th>cc_count_apr</th>\n",
       "      <th>cc_count_may</th>\n",
       "      <th>...</th>\n",
       "      <th>emi_active</th>\n",
       "      <th>account_type</th>\n",
       "      <th>gender</th>\n",
       "      <th>age</th>\n",
       "      <th>Income</th>\n",
       "      <th>Emp_Tenure_Years</th>\n",
       "      <th>Tenure_with_Bank</th>\n",
       "      <th>region_code</th>\n",
       "      <th>NetBanking_Flag</th>\n",
       "      <th>Avg_days_between_transaction</th>\n",
       "    </tr>\n",
       "  </thead>\n",
       "  <tbody>\n",
       "    <tr>\n",
       "      <th>0</th>\n",
       "      <td>12554</td>\n",
       "      <td>20014.0</td>\n",
       "      <td>24893.00</td>\n",
       "      <td>378.00</td>\n",
       "      <td>10288.00</td>\n",
       "      <td>29664.00</td>\n",
       "      <td>16291.40</td>\n",
       "      <td>11432.00</td>\n",
       "      <td>2.0</td>\n",
       "      <td>26</td>\n",
       "      <td>...</td>\n",
       "      <td>1674.09</td>\n",
       "      <td>current</td>\n",
       "      <td>M</td>\n",
       "      <td>35</td>\n",
       "      <td>MEDIUM</td>\n",
       "      <td>15.0</td>\n",
       "      <td>1</td>\n",
       "      <td>708.0</td>\n",
       "      <td>0</td>\n",
       "      <td>17.0</td>\n",
       "    </tr>\n",
       "    <tr>\n",
       "      <th>1</th>\n",
       "      <td>17645</td>\n",
       "      <td>10173.0</td>\n",
       "      <td>18941.62</td>\n",
       "      <td>966.00</td>\n",
       "      <td>20672.00</td>\n",
       "      <td>287.00</td>\n",
       "      <td>4217.00</td>\n",
       "      <td>885.00</td>\n",
       "      <td>1.0</td>\n",
       "      <td>7</td>\n",
       "      <td>...</td>\n",
       "      <td>13043.34</td>\n",
       "      <td>current</td>\n",
       "      <td>M</td>\n",
       "      <td>35</td>\n",
       "      <td>HIGH</td>\n",
       "      <td>15.0</td>\n",
       "      <td>6</td>\n",
       "      <td>123.0</td>\n",
       "      <td>0</td>\n",
       "      <td>14.0</td>\n",
       "    </tr>\n",
       "    <tr>\n",
       "      <th>2</th>\n",
       "      <td>7604</td>\n",
       "      <td>16095.0</td>\n",
       "      <td>5678.87</td>\n",
       "      <td>2724.00</td>\n",
       "      <td>1964.50</td>\n",
       "      <td>3933.11</td>\n",
       "      <td>23956.25</td>\n",
       "      <td>5168.00</td>\n",
       "      <td>43.0</td>\n",
       "      <td>32</td>\n",
       "      <td>...</td>\n",
       "      <td>25375.27</td>\n",
       "      <td>current</td>\n",
       "      <td>M</td>\n",
       "      <td>55</td>\n",
       "      <td>MEDIUM</td>\n",
       "      <td>24.5</td>\n",
       "      <td>1</td>\n",
       "      <td>802.0</td>\n",
       "      <td>1</td>\n",
       "      <td>3.0</td>\n",
       "    </tr>\n",
       "    <tr>\n",
       "      <th>3</th>\n",
       "      <td>1590</td>\n",
       "      <td>7707.0</td>\n",
       "      <td>30489.50</td>\n",
       "      <td>1236.00</td>\n",
       "      <td>12609.88</td>\n",
       "      <td>9138.14</td>\n",
       "      <td>17521.00</td>\n",
       "      <td>13650.30</td>\n",
       "      <td>53.0</td>\n",
       "      <td>1</td>\n",
       "      <td>...</td>\n",
       "      <td>3544.33</td>\n",
       "      <td>current</td>\n",
       "      <td>F</td>\n",
       "      <td>29</td>\n",
       "      <td>MEDIUM</td>\n",
       "      <td>4.5</td>\n",
       "      <td>6</td>\n",
       "      <td>867.0</td>\n",
       "      <td>1</td>\n",
       "      <td>4.0</td>\n",
       "    </tr>\n",
       "    <tr>\n",
       "      <th>4</th>\n",
       "      <td>16556</td>\n",
       "      <td>96408.0</td>\n",
       "      <td>7441.40</td>\n",
       "      <td>6906.04</td>\n",
       "      <td>4364.00</td>\n",
       "      <td>1939.00</td>\n",
       "      <td>2121.00</td>\n",
       "      <td>6829.18</td>\n",
       "      <td>67.0</td>\n",
       "      <td>47</td>\n",
       "      <td>...</td>\n",
       "      <td>12780.44</td>\n",
       "      <td>current</td>\n",
       "      <td>M</td>\n",
       "      <td>34</td>\n",
       "      <td>MEDIUM</td>\n",
       "      <td>12.6</td>\n",
       "      <td>4</td>\n",
       "      <td>802.0</td>\n",
       "      <td>1</td>\n",
       "      <td>7.0</td>\n",
       "    </tr>\n",
       "  </tbody>\n",
       "</table>\n",
       "<p>5 rows × 49 columns</p>\n",
       "</div>"
      ],
      "text/plain": [
       "      ID  cc_cons  cc_cons_apr  dc_cons_apr  cc_cons_may  dc_cons_may  \\\n",
       "0  12554  20014.0     24893.00       378.00     10288.00     29664.00   \n",
       "1  17645  10173.0     18941.62       966.00     20672.00       287.00   \n",
       "2   7604  16095.0      5678.87      2724.00      1964.50      3933.11   \n",
       "3   1590   7707.0     30489.50      1236.00     12609.88      9138.14   \n",
       "4  16556  96408.0      7441.40      6906.04      4364.00      1939.00   \n",
       "\n",
       "   cc_cons_jun  dc_cons_jun  cc_count_apr  cc_count_may  ...  emi_active  \\\n",
       "0     16291.40     11432.00           2.0            26  ...     1674.09   \n",
       "1      4217.00       885.00           1.0             7  ...    13043.34   \n",
       "2     23956.25      5168.00          43.0            32  ...    25375.27   \n",
       "3     17521.00     13650.30          53.0             1  ...     3544.33   \n",
       "4      2121.00      6829.18          67.0            47  ...    12780.44   \n",
       "\n",
       "   account_type  gender  age  Income  Emp_Tenure_Years  Tenure_with_Bank  \\\n",
       "0       current       M   35  MEDIUM              15.0                 1   \n",
       "1       current       M   35    HIGH              15.0                 6   \n",
       "2       current       M   55  MEDIUM              24.5                 1   \n",
       "3       current       F   29  MEDIUM               4.5                 6   \n",
       "4       current       M   34  MEDIUM              12.6                 4   \n",
       "\n",
       "   region_code  NetBanking_Flag  Avg_days_between_transaction  \n",
       "0        708.0                0                          17.0  \n",
       "1        123.0                0                          14.0  \n",
       "2        802.0                1                           3.0  \n",
       "3        867.0                1                           4.0  \n",
       "4        802.0                1                           7.0  \n",
       "\n",
       "[5 rows x 49 columns]"
      ]
     },
     "execution_count": 217,
     "metadata": {},
     "output_type": "execute_result"
    }
   ],
   "source": [
    "df.head()"
   ]
  },
  {
   "cell_type": "code",
   "execution_count": 218,
   "id": "99a34cba",
   "metadata": {},
   "outputs": [
    {
     "data": {
      "text/html": [
       "<div>\n",
       "<style scoped>\n",
       "    .dataframe tbody tr th:only-of-type {\n",
       "        vertical-align: middle;\n",
       "    }\n",
       "\n",
       "    .dataframe tbody tr th {\n",
       "        vertical-align: top;\n",
       "    }\n",
       "\n",
       "    .dataframe thead th {\n",
       "        text-align: right;\n",
       "    }\n",
       "</style>\n",
       "<table border=\"1\" class=\"dataframe\">\n",
       "  <thead>\n",
       "    <tr style=\"text-align: right;\">\n",
       "      <th></th>\n",
       "      <th>ID</th>\n",
       "      <th>cc_cons</th>\n",
       "      <th>cc_cons_apr</th>\n",
       "      <th>dc_cons_apr</th>\n",
       "      <th>cc_cons_may</th>\n",
       "      <th>dc_cons_may</th>\n",
       "      <th>cc_cons_jun</th>\n",
       "      <th>dc_cons_jun</th>\n",
       "      <th>cc_count_apr</th>\n",
       "      <th>cc_count_may</th>\n",
       "      <th>...</th>\n",
       "      <th>credit_count_jun</th>\n",
       "      <th>debit_count_jun</th>\n",
       "      <th>max_credit_amount_jun</th>\n",
       "      <th>emi_active</th>\n",
       "      <th>age</th>\n",
       "      <th>Emp_Tenure_Years</th>\n",
       "      <th>Tenure_with_Bank</th>\n",
       "      <th>region_code</th>\n",
       "      <th>NetBanking_Flag</th>\n",
       "      <th>Avg_days_between_transaction</th>\n",
       "    </tr>\n",
       "  </thead>\n",
       "  <tbody>\n",
       "    <tr>\n",
       "      <th>count</th>\n",
       "      <td>20000.000000</td>\n",
       "      <td>15000.000000</td>\n",
       "      <td>20000.000000</td>\n",
       "      <td>20000.000000</td>\n",
       "      <td>1.999900e+04</td>\n",
       "      <td>20000.000000</td>\n",
       "      <td>20000.000000</td>\n",
       "      <td>19999.000000</td>\n",
       "      <td>19999.000000</td>\n",
       "      <td>20000.000000</td>\n",
       "      <td>...</td>\n",
       "      <td>20000.000000</td>\n",
       "      <td>20000.000000</td>\n",
       "      <td>2.000000e+04</td>\n",
       "      <td>1.999900e+04</td>\n",
       "      <td>20000.000000</td>\n",
       "      <td>20000.000000</td>\n",
       "      <td>20000.000000</td>\n",
       "      <td>19999.000000</td>\n",
       "      <td>20000.000000</td>\n",
       "      <td>19997.000000</td>\n",
       "    </tr>\n",
       "    <tr>\n",
       "      <th>mean</th>\n",
       "      <td>9999.500000</td>\n",
       "      <td>55157.729867</td>\n",
       "      <td>17856.990922</td>\n",
       "      <td>8130.453414</td>\n",
       "      <td>1.618836e+04</td>\n",
       "      <td>7702.427191</td>\n",
       "      <td>12135.806021</td>\n",
       "      <td>7109.708341</td>\n",
       "      <td>41.611631</td>\n",
       "      <td>33.569100</td>\n",
       "      <td>...</td>\n",
       "      <td>19.905450</td>\n",
       "      <td>44.529100</td>\n",
       "      <td>5.284985e+04</td>\n",
       "      <td>1.539887e+04</td>\n",
       "      <td>47.672300</td>\n",
       "      <td>15.217250</td>\n",
       "      <td>5.496050</td>\n",
       "      <td>598.959348</td>\n",
       "      <td>0.718000</td>\n",
       "      <td>11.044757</td>\n",
       "    </tr>\n",
       "    <tr>\n",
       "      <th>std</th>\n",
       "      <td>5773.647028</td>\n",
       "      <td>97670.972252</td>\n",
       "      <td>25158.878234</td>\n",
       "      <td>14572.188829</td>\n",
       "      <td>2.651068e+04</td>\n",
       "      <td>17892.731800</td>\n",
       "      <td>18790.984789</td>\n",
       "      <td>13313.935609</td>\n",
       "      <td>97.835475</td>\n",
       "      <td>50.316925</td>\n",
       "      <td>...</td>\n",
       "      <td>27.055323</td>\n",
       "      <td>35.080453</td>\n",
       "      <td>1.343175e+05</td>\n",
       "      <td>1.202541e+05</td>\n",
       "      <td>30.359771</td>\n",
       "      <td>20.481455</td>\n",
       "      <td>2.870452</td>\n",
       "      <td>220.105230</td>\n",
       "      <td>0.449985</td>\n",
       "      <td>5.480552</td>\n",
       "    </tr>\n",
       "    <tr>\n",
       "      <th>min</th>\n",
       "      <td>0.000000</td>\n",
       "      <td>0.000000</td>\n",
       "      <td>253.000000</td>\n",
       "      <td>19.350000</td>\n",
       "      <td>1.570000e+02</td>\n",
       "      <td>22.000000</td>\n",
       "      <td>65.000000</td>\n",
       "      <td>62.000000</td>\n",
       "      <td>1.000000</td>\n",
       "      <td>1.000000</td>\n",
       "      <td>...</td>\n",
       "      <td>1.000000</td>\n",
       "      <td>0.000000</td>\n",
       "      <td>6.000000e-02</td>\n",
       "      <td>0.000000e+00</td>\n",
       "      <td>25.000000</td>\n",
       "      <td>0.500000</td>\n",
       "      <td>1.000000</td>\n",
       "      <td>123.000000</td>\n",
       "      <td>0.000000</td>\n",
       "      <td>2.000000</td>\n",
       "    </tr>\n",
       "    <tr>\n",
       "      <th>25%</th>\n",
       "      <td>4999.750000</td>\n",
       "      <td>6768.000000</td>\n",
       "      <td>4377.000000</td>\n",
       "      <td>1624.650000</td>\n",
       "      <td>3.635910e+03</td>\n",
       "      <td>1634.260000</td>\n",
       "      <td>2999.075000</td>\n",
       "      <td>1361.100000</td>\n",
       "      <td>5.000000</td>\n",
       "      <td>8.000000</td>\n",
       "      <td>...</td>\n",
       "      <td>4.000000</td>\n",
       "      <td>12.000000</td>\n",
       "      <td>1.896450e+04</td>\n",
       "      <td>1.545940e+03</td>\n",
       "      <td>33.000000</td>\n",
       "      <td>5.100000</td>\n",
       "      <td>3.000000</td>\n",
       "      <td>424.000000</td>\n",
       "      <td>0.000000</td>\n",
       "      <td>6.000000</td>\n",
       "    </tr>\n",
       "    <tr>\n",
       "      <th>50%</th>\n",
       "      <td>9999.500000</td>\n",
       "      <td>13364.000000</td>\n",
       "      <td>10214.642500</td>\n",
       "      <td>3964.750000</td>\n",
       "      <td>8.635230e+03</td>\n",
       "      <td>3791.720000</td>\n",
       "      <td>6656.800000</td>\n",
       "      <td>3326.000000</td>\n",
       "      <td>10.000000</td>\n",
       "      <td>23.000000</td>\n",
       "      <td>...</td>\n",
       "      <td>7.000000</td>\n",
       "      <td>37.000000</td>\n",
       "      <td>3.025000e+04</td>\n",
       "      <td>3.934660e+03</td>\n",
       "      <td>40.000000</td>\n",
       "      <td>9.900000</td>\n",
       "      <td>6.000000</td>\n",
       "      <td>623.000000</td>\n",
       "      <td>1.000000</td>\n",
       "      <td>11.000000</td>\n",
       "    </tr>\n",
       "    <tr>\n",
       "      <th>75%</th>\n",
       "      <td>14999.250000</td>\n",
       "      <td>20105.750000</td>\n",
       "      <td>21189.000000</td>\n",
       "      <td>9339.020000</td>\n",
       "      <td>1.865531e+04</td>\n",
       "      <td>8263.590000</td>\n",
       "      <td>14195.727500</td>\n",
       "      <td>7458.820000</td>\n",
       "      <td>44.000000</td>\n",
       "      <td>43.000000</td>\n",
       "      <td>...</td>\n",
       "      <td>21.000000</td>\n",
       "      <td>73.000000</td>\n",
       "      <td>5.344900e+04</td>\n",
       "      <td>9.376390e+03</td>\n",
       "      <td>53.000000</td>\n",
       "      <td>18.000000</td>\n",
       "      <td>8.000000</td>\n",
       "      <td>799.000000</td>\n",
       "      <td>1.000000</td>\n",
       "      <td>16.000000</td>\n",
       "    </tr>\n",
       "    <tr>\n",
       "      <th>max</th>\n",
       "      <td>19999.000000</td>\n",
       "      <td>408382.000000</td>\n",
       "      <td>441031.330000</td>\n",
       "      <td>229255.000000</td>\n",
       "      <td>1.117246e+06</td>\n",
       "      <td>911223.490000</td>\n",
       "      <td>382914.100000</td>\n",
       "      <td>233384.000000</td>\n",
       "      <td>531.000000</td>\n",
       "      <td>601.000000</td>\n",
       "      <td>...</td>\n",
       "      <td>117.000000</td>\n",
       "      <td>133.000000</td>\n",
       "      <td>5.200000e+06</td>\n",
       "      <td>7.447125e+06</td>\n",
       "      <td>223.000000</td>\n",
       "      <td>203.000000</td>\n",
       "      <td>10.000000</td>\n",
       "      <td>974.000000</td>\n",
       "      <td>1.000000</td>\n",
       "      <td>20.000000</td>\n",
       "    </tr>\n",
       "  </tbody>\n",
       "</table>\n",
       "<p>8 rows × 45 columns</p>\n",
       "</div>"
      ],
      "text/plain": [
       "                 ID        cc_cons    cc_cons_apr    dc_cons_apr  \\\n",
       "count  20000.000000   15000.000000   20000.000000   20000.000000   \n",
       "mean    9999.500000   55157.729867   17856.990922    8130.453414   \n",
       "std     5773.647028   97670.972252   25158.878234   14572.188829   \n",
       "min        0.000000       0.000000     253.000000      19.350000   \n",
       "25%     4999.750000    6768.000000    4377.000000    1624.650000   \n",
       "50%     9999.500000   13364.000000   10214.642500    3964.750000   \n",
       "75%    14999.250000   20105.750000   21189.000000    9339.020000   \n",
       "max    19999.000000  408382.000000  441031.330000  229255.000000   \n",
       "\n",
       "        cc_cons_may    dc_cons_may    cc_cons_jun    dc_cons_jun  \\\n",
       "count  1.999900e+04   20000.000000   20000.000000   19999.000000   \n",
       "mean   1.618836e+04    7702.427191   12135.806021    7109.708341   \n",
       "std    2.651068e+04   17892.731800   18790.984789   13313.935609   \n",
       "min    1.570000e+02      22.000000      65.000000      62.000000   \n",
       "25%    3.635910e+03    1634.260000    2999.075000    1361.100000   \n",
       "50%    8.635230e+03    3791.720000    6656.800000    3326.000000   \n",
       "75%    1.865531e+04    8263.590000   14195.727500    7458.820000   \n",
       "max    1.117246e+06  911223.490000  382914.100000  233384.000000   \n",
       "\n",
       "       cc_count_apr  cc_count_may  ...  credit_count_jun  debit_count_jun  \\\n",
       "count  19999.000000  20000.000000  ...      20000.000000     20000.000000   \n",
       "mean      41.611631     33.569100  ...         19.905450        44.529100   \n",
       "std       97.835475     50.316925  ...         27.055323        35.080453   \n",
       "min        1.000000      1.000000  ...          1.000000         0.000000   \n",
       "25%        5.000000      8.000000  ...          4.000000        12.000000   \n",
       "50%       10.000000     23.000000  ...          7.000000        37.000000   \n",
       "75%       44.000000     43.000000  ...         21.000000        73.000000   \n",
       "max      531.000000    601.000000  ...        117.000000       133.000000   \n",
       "\n",
       "       max_credit_amount_jun    emi_active           age  Emp_Tenure_Years  \\\n",
       "count           2.000000e+04  1.999900e+04  20000.000000      20000.000000   \n",
       "mean            5.284985e+04  1.539887e+04     47.672300         15.217250   \n",
       "std             1.343175e+05  1.202541e+05     30.359771         20.481455   \n",
       "min             6.000000e-02  0.000000e+00     25.000000          0.500000   \n",
       "25%             1.896450e+04  1.545940e+03     33.000000          5.100000   \n",
       "50%             3.025000e+04  3.934660e+03     40.000000          9.900000   \n",
       "75%             5.344900e+04  9.376390e+03     53.000000         18.000000   \n",
       "max             5.200000e+06  7.447125e+06    223.000000        203.000000   \n",
       "\n",
       "       Tenure_with_Bank   region_code  NetBanking_Flag  \\\n",
       "count      20000.000000  19999.000000     20000.000000   \n",
       "mean           5.496050    598.959348         0.718000   \n",
       "std            2.870452    220.105230         0.449985   \n",
       "min            1.000000    123.000000         0.000000   \n",
       "25%            3.000000    424.000000         0.000000   \n",
       "50%            6.000000    623.000000         1.000000   \n",
       "75%            8.000000    799.000000         1.000000   \n",
       "max           10.000000    974.000000         1.000000   \n",
       "\n",
       "       Avg_days_between_transaction  \n",
       "count                  19997.000000  \n",
       "mean                      11.044757  \n",
       "std                        5.480552  \n",
       "min                        2.000000  \n",
       "25%                        6.000000  \n",
       "50%                       11.000000  \n",
       "75%                       16.000000  \n",
       "max                       20.000000  \n",
       "\n",
       "[8 rows x 45 columns]"
      ]
     },
     "execution_count": 218,
     "metadata": {},
     "output_type": "execute_result"
    }
   ],
   "source": [
    "df.describe()"
   ]
  },
  {
   "cell_type": "code",
   "execution_count": 219,
   "id": "57ed653e",
   "metadata": {},
   "outputs": [],
   "source": [
    "#Sorting 'target credit' values\n",
    "df.sort_values(by='cc_cons', inplace=True)"
   ]
  },
  {
   "cell_type": "code",
   "execution_count": 220,
   "id": "78fc0fd1",
   "metadata": {},
   "outputs": [
    {
     "data": {
      "text/plain": [
       "4262.0      5\n",
       "6035.0      5\n",
       "6203.0      5\n",
       "13260.0     5\n",
       "5602.0      5\n",
       "           ..\n",
       "11157.0     1\n",
       "11162.0     1\n",
       "11164.0     1\n",
       "11165.0     1\n",
       "408382.0    1\n",
       "Name: cc_cons, Length: 12260, dtype: int64"
      ]
     },
     "execution_count": 220,
     "metadata": {},
     "output_type": "execute_result"
    }
   ],
   "source": [
    "df['cc_cons'].value_counts() # Check 'cc_cons' value counts"
   ]
  },
  {
   "cell_type": "code",
   "execution_count": 221,
   "id": "77ecde87",
   "metadata": {},
   "outputs": [
    {
     "name": "stdout",
     "output_type": "stream",
     "text": [
      "<class 'pandas.core.frame.DataFrame'>\n",
      "Int64Index: 20000 entries, 13280 to 19999\n",
      "Data columns (total 49 columns):\n",
      " #   Column                        Non-Null Count  Dtype  \n",
      "---  ------                        --------------  -----  \n",
      " 0   ID                            20000 non-null  int64  \n",
      " 1   cc_cons                       15000 non-null  float64\n",
      " 2   cc_cons_apr                   20000 non-null  float64\n",
      " 3   dc_cons_apr                   20000 non-null  float64\n",
      " 4   cc_cons_may                   19999 non-null  float64\n",
      " 5   dc_cons_may                   20000 non-null  float64\n",
      " 6   cc_cons_jun                   20000 non-null  float64\n",
      " 7   dc_cons_jun                   19999 non-null  float64\n",
      " 8   cc_count_apr                  19999 non-null  float64\n",
      " 9   cc_count_may                  20000 non-null  int64  \n",
      " 10  cc_count_jun                  20000 non-null  int64  \n",
      " 11  dc_count_apr                  20000 non-null  int64  \n",
      " 12  dc_count_may                  20000 non-null  int64  \n",
      " 13  dc_count_jun                  20000 non-null  int64  \n",
      " 14  card_lim                      20000 non-null  int64  \n",
      " 15  personal_loan_active          20000 non-null  int64  \n",
      " 16  vehicle_loan_active           20000 non-null  int64  \n",
      " 17  personal_loan_closed          19999 non-null  float64\n",
      " 18  vehicle_loan_closed           20000 non-null  int64  \n",
      " 19  investment_1                  20000 non-null  float64\n",
      " 20  investment_2                  20000 non-null  float64\n",
      " 21  investment_3                  19998 non-null  float64\n",
      " 22  investment_4                  20000 non-null  float64\n",
      " 23  debit_amount_apr              20000 non-null  float64\n",
      " 24  credit_amount_apr             20000 non-null  float64\n",
      " 25  debit_count_apr               19999 non-null  float64\n",
      " 26  credit_count_apr              20000 non-null  int64  \n",
      " 27  max_credit_amount_apr         20000 non-null  float64\n",
      " 28  debit_amount_may              20000 non-null  float64\n",
      " 29  credit_amount_may             20000 non-null  float64\n",
      " 30  credit_count_may              20000 non-null  int64  \n",
      " 31  debit_count_may               20000 non-null  int64  \n",
      " 32  max_credit_amount_may         20000 non-null  float64\n",
      " 33  debit_amount_jun              20000 non-null  float64\n",
      " 34  credit_amount_jun             20000 non-null  float64\n",
      " 35  credit_count_jun              20000 non-null  int64  \n",
      " 36  debit_count_jun               20000 non-null  int64  \n",
      " 37  max_credit_amount_jun         20000 non-null  float64\n",
      " 38  loan_enq                      19998 non-null  object \n",
      " 39  emi_active                    19999 non-null  float64\n",
      " 40  account_type                  19999 non-null  object \n",
      " 41  gender                        19999 non-null  object \n",
      " 42  age                           20000 non-null  int64  \n",
      " 43  Income                        19999 non-null  object \n",
      " 44  Emp_Tenure_Years              20000 non-null  float64\n",
      " 45  Tenure_with_Bank              20000 non-null  int64  \n",
      " 46  region_code                   19999 non-null  float64\n",
      " 47  NetBanking_Flag               20000 non-null  int64  \n",
      " 48  Avg_days_between_transaction  19997 non-null  float64\n",
      "dtypes: float64(27), int64(18), object(4)\n",
      "memory usage: 7.6+ MB\n"
     ]
    }
   ],
   "source": [
    "df.info()"
   ]
  },
  {
   "cell_type": "markdown",
   "id": "e0d2fcf6",
   "metadata": {},
   "source": [
    "### Exploratory Data Analysis"
   ]
  },
  {
   "cell_type": "code",
   "execution_count": 222,
   "id": "ba0e12c0",
   "metadata": {},
   "outputs": [
    {
     "data": {
      "text/plain": [
       "4262.0      5\n",
       "6035.0      5\n",
       "6203.0      5\n",
       "13260.0     5\n",
       "5602.0      5\n",
       "           ..\n",
       "11157.0     1\n",
       "11162.0     1\n",
       "11164.0     1\n",
       "11165.0     1\n",
       "408382.0    1\n",
       "Name: cc_cons, Length: 12260, dtype: int64"
      ]
     },
     "execution_count": 222,
     "metadata": {},
     "output_type": "execute_result"
    }
   ],
   "source": [
    "df['cc_cons'].value_counts()"
   ]
  },
  {
   "cell_type": "code",
   "execution_count": 223,
   "id": "0fd88e04",
   "metadata": {},
   "outputs": [],
   "source": [
    "#Divide the categorical and numerical data\n",
    "\n",
    "df_cat = df.select_dtypes(include=['object'])\n",
    "df_num = df.select_dtypes(include=['int64', 'float64'])"
   ]
  },
  {
   "cell_type": "code",
   "execution_count": 224,
   "id": "12d0070c",
   "metadata": {},
   "outputs": [],
   "source": [
    "df_num[df_num < 0] = 0 # Get the negative values to zero"
   ]
  },
  {
   "cell_type": "code",
   "execution_count": 225,
   "id": "ed2accb9",
   "metadata": {},
   "outputs": [],
   "source": [
    "df = pd.concat([df_num,df_cat], axis=1) # Merge numerical and categorical data"
   ]
  },
  {
   "cell_type": "code",
   "execution_count": 226,
   "id": "31fac236",
   "metadata": {},
   "outputs": [],
   "source": [
    "# Create User Defined Function to check the outliers through visualization\n",
    "\n",
    "def plot_box_dist(box_data, dist_data):\n",
    "    # Create a figure with subplots\n",
    "    fig, axes = plt.subplots(1, 2, figsize=(12, 6))\n",
    "\n",
    "    # Plot boxplot\n",
    "    sns.boxplot(data=box_data, ax=axes[0], )\n",
    "    axes[0].set_title('Box Plot')\n",
    "\n",
    "    # Plot distribution plot\n",
    "    sns.distplot(dist_data, ax=axes[1])\n",
    "    axes[1].set_title('Distribution Plot')\n",
    "\n",
    "    # Show the plots\n",
    "    plt.show()"
   ]
  },
  {
   "cell_type": "code",
   "execution_count": 227,
   "id": "688900b0",
   "metadata": {},
   "outputs": [
    {
     "data": {
      "image/png": "[encoded data removed]",
      "text/plain": [
       "<Figure size 1200x600 with 2 Axes>"
      ]
     },
     "metadata": {},
     "output_type": "display_data"
    }
   ],
   "source": [
    "# Call the function to plot the data\n",
    "plot_box_dist(df['cc_cons'], df['cc_cons'])"
   ]
  },
  {
   "cell_type": "code",
   "execution_count": 228,
   "id": "46d6d6ba",
   "metadata": {},
   "outputs": [
    {
     "data": {
      "text/plain": [
       "2.126581960835585"
      ]
     },
     "execution_count": 228,
     "metadata": {},
     "output_type": "execute_result"
    }
   ],
   "source": [
    "df['cc_cons'].skew() # Check the data skew value, it should be near to zero"
   ]
  },
  {
   "cell_type": "code",
   "execution_count": 229,
   "id": "c18a0018",
   "metadata": {},
   "outputs": [
    {
     "data": {
      "image/png": "[encoded data removed]",
      "text/plain": [
       "<Figure size 1200x600 with 2 Axes>"
      ]
     },
     "metadata": {},
     "output_type": "display_data"
    }
   ],
   "source": [
    "# Check the outlier in 'Age' feature\n",
    "plot_box_dist(df['age'], df['age'])"
   ]
  },
  {
   "cell_type": "code",
   "execution_count": 230,
   "id": "ce570012",
   "metadata": {},
   "outputs": [
    {
     "data": {
      "text/plain": [
       "4.400723586274227"
      ]
     },
     "execution_count": 230,
     "metadata": {},
     "output_type": "execute_result"
    }
   ],
   "source": [
    "df['age'].skew() # Check the Age feature skew value"
   ]
  },
  {
   "cell_type": "code",
   "execution_count": 231,
   "id": "de641183",
   "metadata": {},
   "outputs": [],
   "source": [
    "## Data Distribution"
   ]
  },
  {
   "cell_type": "code",
   "execution_count": 232,
   "id": "f0816f01",
   "metadata": {},
   "outputs": [
    {
     "data": {
      "text/plain": [
       "(array([11882.,    52.,   565.,   451.,   309.,   400.,    14.,   789.,\n",
       "          317.,   221.]),\n",
       " array([     0. ,  40838.2,  81676.4, 122514.6, 163352.8, 204191. ,\n",
       "        245029.2, 285867.4, 326705.6, 367543.8, 408382. ]),\n",
       " <BarContainer object of 10 artists>)"
      ]
     },
     "execution_count": 232,
     "metadata": {},
     "output_type": "execute_result"
    },
    {
     "data": {
      "image/png": "[encoded data removed]",
      "text/plain": [
       "<Figure size 640x480 with 1 Axes>"
      ]
     },
     "metadata": {},
     "output_type": "display_data"
    }
   ],
   "source": [
    "plt.hist(df['cc_cons'], bins=10)"
   ]
  },
  {
   "cell_type": "code",
   "execution_count": 233,
   "id": "905426fc",
   "metadata": {},
   "outputs": [
    {
     "data": {
      "text/plain": [
       "<Axes: xlabel='gender', ylabel='count'>"
      ]
     },
     "execution_count": 233,
     "metadata": {},
     "output_type": "execute_result"
    },
    {
     "data": {
      "image/png": "[encoded data removed]",
      "text/plain": [
       "<Figure size 640x480 with 1 Axes>"
      ]
     },
     "metadata": {},
     "output_type": "display_data"
    }
   ],
   "source": [
    "sns.countplot(x=\"gender\", data=df,hue=\"account_type\")"
   ]
  },
  {
   "cell_type": "markdown",
   "id": "67a13a6d",
   "metadata": {},
   "source": [
    "Males are having more accounts as compared to females including current and saving. Males and females both have more current accounts than saving accounts. "
   ]
  },
  {
   "cell_type": "code",
   "execution_count": 234,
   "id": "1151f391",
   "metadata": {},
   "outputs": [
    {
     "data": {
      "text/plain": [
       "<Axes: xlabel='gender', ylabel='count'>"
      ]
     },
     "execution_count": 234,
     "metadata": {},
     "output_type": "execute_result"
    },
    {
     "data": {
      "image/png": "[encoded data removed]",
      "text/plain": [
       "<Figure size 640x480 with 1 Axes>"
      ]
     },
     "metadata": {},
     "output_type": "display_data"
    }
   ],
   "source": [
    "sns.countplot(x=\"gender\", data=df,hue=\"Income\")"
   ]
  },
  {
   "cell_type": "markdown",
   "id": "8e7d2227",
   "metadata": {},
   "source": [
    "Males incomes is more and higher than females in every income type."
   ]
  },
  {
   "cell_type": "code",
   "execution_count": 235,
   "id": "0079924d",
   "metadata": {},
   "outputs": [
    {
     "data": {
      "text/plain": [
       "<Axes: >"
      ]
     },
     "execution_count": 235,
     "metadata": {},
     "output_type": "execute_result"
    },
    {
     "data": {
      "image/png": "[encoded data removed]",
      "text/plain": [
       "<Figure size 640x480 with 1 Axes>"
      ]
     },
     "metadata": {},
     "output_type": "display_data"
    }
   ],
   "source": [
    "sns.barplot(x=[\"April\", \"May\", \"June\"],y=[df['cc_cons_apr'].sum(),df['cc_cons_may'].sum(),df[\"cc_cons_jun\"].sum()])"
   ]
  },
  {
   "cell_type": "code",
   "execution_count": 236,
   "id": "3dc7549a",
   "metadata": {},
   "outputs": [
    {
     "data": {
      "text/plain": [
       "<Axes: >"
      ]
     },
     "execution_count": 236,
     "metadata": {},
     "output_type": "execute_result"
    },
    {
     "data": {
      "image/png": "[encoded data removed]",
      "text/plain": [
       "<Figure size 640x480 with 1 Axes>"
      ]
     },
     "metadata": {},
     "output_type": "display_data"
    }
   ],
   "source": [
    "sns.barplot(x=[\"April\", \"May\", \"June\"],y=[df[\"dc_cons_apr\"].sum(),df['dc_cons_may'].sum(),df[\"dc_cons_jun\"].sum()])"
   ]
  },
  {
   "cell_type": "markdown",
   "id": "9f73a9f1",
   "metadata": {},
   "source": [
    "### Data Cleaning and Preprocessing"
   ]
  },
  {
   "cell_type": "code",
   "execution_count": 244,
   "id": "d89c4698",
   "metadata": {},
   "outputs": [],
   "source": [
    "df_test_ID = df.loc[:, ['ID', 'cc_cons']] # storing IDs for which data is to be predicted"
   ]
  },
  {
   "cell_type": "code",
   "execution_count": 245,
   "id": "623f6a75",
   "metadata": {},
   "outputs": [],
   "source": [
    "df_test_ID= df_test_ID[df_test_ID['cc_cons'].isna()]"
   ]
  },
  {
   "cell_type": "code",
   "execution_count": 246,
   "id": "79dc442d",
   "metadata": {},
   "outputs": [],
   "source": [
    "df_test_ID.drop(columns='cc_cons', inplace=True)"
   ]
  },
  {
   "cell_type": "code",
   "execution_count": 247,
   "id": "b1510870",
   "metadata": {},
   "outputs": [],
   "source": [
    "df_test_ID = df_test_ID['ID']"
   ]
  },
  {
   "cell_type": "code",
   "execution_count": 248,
   "id": "266bb71b",
   "metadata": {},
   "outputs": [],
   "source": [
    "df.drop(columns='ID', inplace=True) # Dropping the ID columns from main dataset"
   ]
  },
  {
   "cell_type": "code",
   "execution_count": 249,
   "id": "894b58a8",
   "metadata": {},
   "outputs": [],
   "source": [
    "# Handling Outliers\n",
    "\n",
    "# Create User defined function for handling outliers\n",
    "\n",
    "def handling_outlier(feature):\n",
    "    \n",
    "    q1 = feature.quantile(q = 0.25)\n",
    "    q3 = feature.quantile(q = 0.75)\n",
    "    iqr = q3-q1\n",
    "    uc = q3+(1.5*iqr)\n",
    "    lc = q1-(1.5*iqr)\n",
    "    feature = feature.clip(lower = lc, upper = uc)\n",
    "    \n",
    "    return feature"
   ]
  },
  {
   "cell_type": "code",
   "execution_count": 250,
   "id": "52b34435",
   "metadata": {},
   "outputs": [],
   "source": [
    "# Apply the function for handling outliers\n",
    "df['cc_cons'] = handling_outlier(df.cc_cons)"
   ]
  },
  {
   "cell_type": "code",
   "execution_count": 251,
   "id": "8c936e8a",
   "metadata": {},
   "outputs": [
    {
     "data": {
      "text/plain": [
       "0.7855187307164534"
      ]
     },
     "execution_count": 251,
     "metadata": {},
     "output_type": "execute_result"
    }
   ],
   "source": [
    "df['cc_cons'].skew() # Skew value is around zero"
   ]
  },
  {
   "cell_type": "code",
   "execution_count": 252,
   "id": "6456c3ac",
   "metadata": {},
   "outputs": [
    {
     "data": {
      "image/png": "[encoded data removed]",
      "text/plain": [
       "<Figure size 1200x600 with 2 Axes>"
      ]
     },
     "metadata": {},
     "output_type": "display_data"
    }
   ],
   "source": [
    "plot_box_dist(df['cc_cons'], df['cc_cons'])"
   ]
  },
  {
   "cell_type": "code",
   "execution_count": 253,
   "id": "d473d264",
   "metadata": {},
   "outputs": [],
   "source": [
    "df['age'] = handling_outlier(df.age) # Aplying the outlier udf for handling outlier in Age feature"
   ]
  },
  {
   "cell_type": "code",
   "execution_count": 254,
   "id": "f464fb1e",
   "metadata": {},
   "outputs": [
    {
     "data": {
      "text/plain": [
       "0.874441950938215"
      ]
     },
     "execution_count": 254,
     "metadata": {},
     "output_type": "execute_result"
    }
   ],
   "source": [
    "df['age'].skew() # Now the skew value is near to zero"
   ]
  },
  {
   "cell_type": "code",
   "execution_count": 255,
   "id": "def738ba",
   "metadata": {},
   "outputs": [
    {
     "data": {
      "image/png": "[encoded data removed]",
      "text/plain": [
       "<Figure size 1200x600 with 2 Axes>"
      ]
     },
     "metadata": {},
     "output_type": "display_data"
    }
   ],
   "source": [
    "plot_box_dist(df['age'], df['age'])"
   ]
  },
  {
   "cell_type": "code",
   "execution_count": 256,
   "id": "f283e80c",
   "metadata": {},
   "outputs": [
    {
     "data": {
      "text/plain": [
       "cc_cons                         5000\n",
       "cc_cons_apr                        0\n",
       "dc_cons_apr                        0\n",
       "cc_cons_may                        1\n",
       "dc_cons_may                        0\n",
       "cc_cons_jun                        0\n",
       "dc_cons_jun                        1\n",
       "cc_count_apr                       1\n",
       "cc_count_may                       0\n",
       "cc_count_jun                       0\n",
       "dc_count_apr                       0\n",
       "dc_count_may                       0\n",
       "dc_count_jun                       0\n",
       "card_lim                           0\n",
       "personal_loan_active               0\n",
       "vehicle_loan_active                0\n",
       "personal_loan_closed               1\n",
       "vehicle_loan_closed                0\n",
       "investment_1                       0\n",
       "investment_2                       0\n",
       "investment_3                       2\n",
       "investment_4                       0\n",
       "debit_amount_apr                   0\n",
       "credit_amount_apr                  0\n",
       "debit_count_apr                    1\n",
       "credit_count_apr                   0\n",
       "max_credit_amount_apr              0\n",
       "debit_amount_may                   0\n",
       "credit_amount_may                  0\n",
       "credit_count_may                   0\n",
       "debit_count_may                    0\n",
       "max_credit_amount_may              0\n",
       "debit_amount_jun                   0\n",
       "credit_amount_jun                  0\n",
       "credit_count_jun                   0\n",
       "debit_count_jun                    0\n",
       "max_credit_amount_jun              0\n",
       "emi_active                         1\n",
       "age                                0\n",
       "Emp_Tenure_Years                   0\n",
       "Tenure_with_Bank                   0\n",
       "region_code                        1\n",
       "NetBanking_Flag                    0\n",
       "Avg_days_between_transaction       3\n",
       "loan_enq                           2\n",
       "account_type                       1\n",
       "gender                             1\n",
       "Income                             1\n",
       "dtype: int64"
      ]
     },
     "execution_count": 256,
     "metadata": {},
     "output_type": "execute_result"
    }
   ],
   "source": [
    "df.isnull().sum()"
   ]
  },
  {
   "cell_type": "code",
   "execution_count": 257,
   "id": "34f588c6",
   "metadata": {},
   "outputs": [],
   "source": [
    "# Fill the missing values with respective mean, and mode based on continous and categorical obervations.\n",
    "\n",
    "df['cc_cons_may'] = df['cc_cons_may'].fillna(df.cc_cons_may.mean())\n",
    "df['dc_cons_jun'] = df['dc_cons_jun'].fillna(df.dc_cons_jun.mean())\n",
    "df['cc_count_apr'] = df['cc_count_apr'].fillna(df.cc_count_apr.mean())\n",
    "df['personal_loan_closed'] = df['personal_loan_closed'].fillna(0)\n",
    "df['investment_3'] = df['investment_3'].fillna(df.investment_3.mean())\n",
    "df['emi_active'] = df['emi_active'].fillna(df.emi_active.mean())\n",
    "df['debit_count_apr'] = df['debit_count_apr'].fillna(df.debit_count_apr.mean())                 \n",
    "df['Avg_days_between_transaction'] = df['Avg_days_between_transaction'].fillna(df.Avg_days_between_transaction.mode()[0])\n",
    "#Assuming the loan enq are missing considered as 'N'\n",
    "df['loan_enq'] = df['loan_enq'].fillna('N')\n",
    "df['region_code'] = df['region_code'].fillna(df.region_code.mode()[0])\n",
    "df['account_type'] = df['account_type'].fillna(df.account_type.mode()[0])\n",
    "df['gender'] = df['gender'].fillna(df.gender.mode()[0])\n",
    "df['Income'] = df['Income'].fillna(df.Income.mode()[0])"
   ]
  },
  {
   "cell_type": "code",
   "execution_count": 258,
   "id": "9a1bfe28",
   "metadata": {},
   "outputs": [],
   "source": [
    "# Feature Engineering:\n",
    "\n",
    "#1. Merging the features means of 'cc_cons_apr', 'cc_cons_may', 'cc_cons_jun' to old_cc_cons, 'dc_cons_apr'', 'dc_cons_may', 'dc_cons_jun to dc_cons,\n",
    "    #cc_count_apr', 'cc_count_may', 'cc_count_jun to cc_count, 'dc_count_apr', 'dc_count_may', 'dc_count_jun'' to dc_count, \n",
    "    #'credit_amount_apr', 'credit_amount_may', 'credit_amount_jun' to credit_amount,\n",
    "    #'debit_amount_apr', 'debit_amount_may', 'debit_amount_jun' to debit_amount,\n",
    "    #'debit_count_apr', 'debit_count_may', 'debit_count_jun' to debit_count,\n",
    "    #'credit_count_apr', 'credit_count_may', 'credit_count_jun' to credit_count,\n",
    "    #'max_credit_amount_apr', 'max_credit_amount_may', 'max_credit_amount_jun' to max_credit_amount,\n",
    "#2. Sum the features observations and create a new feature. 'investment_1', 'investment_2', 'investment_3', 'investment_4' to investment\n",
    "    #'personal_loan_active', 'vehicle_loan_active' to 'total_active_loan'\n",
    "    #'personal_loan_closed', 'vehicle_loan_closed' to 'total_closed_loan'"
   ]
  },
  {
   "cell_type": "code",
   "execution_count": 259,
   "id": "635e9ce8",
   "metadata": {},
   "outputs": [],
   "source": [
    "# Summing up the columns"
   ]
  },
  {
   "cell_type": "code",
   "execution_count": 260,
   "id": "8c1fa795",
   "metadata": {},
   "outputs": [],
   "source": [
    "df['old_cc_cons'] = df[['cc_cons_apr', 'cc_cons_may', 'cc_cons_jun']].mean(axis=1)\n",
    "df['dc_cons'] = df[['dc_cons_apr', 'dc_cons_may', 'dc_cons_jun']].mean(axis=1)\n",
    "df['cc_count'] = df[['cc_count_apr', 'cc_count_may', 'cc_count_jun']].mean(axis=1)\n",
    "df['dc_count'] = df[['dc_count_apr', 'dc_count_may', 'dc_count_jun']].mean(axis=1)\n",
    "df['credit_amount'] = df[['credit_amount_apr', 'credit_amount_may', 'credit_amount_jun']].mean(axis=1)\n",
    "df['debit_amount'] = df[['debit_amount_apr', 'debit_amount_may', 'debit_amount_jun']].mean(axis=1)\n",
    "df['debit_count'] = df[['debit_count_apr', 'debit_count_may', 'debit_count_jun']].mean(axis=1)\n",
    "df['credit_count'] = df[['credit_count_apr', 'credit_count_may', 'credit_count_jun']].mean(axis=1)\n",
    "df['max_credit_amount'] = df[['max_credit_amount_apr', 'max_credit_amount_may', 'max_credit_amount_jun']].mean(axis=1)\n",
    "df['investment'] = df[['investment_1', 'investment_2', 'investment_3', 'investment_4']].sum(axis=1)\n",
    "df['total_active_loan'] = df[['personal_loan_active', 'vehicle_loan_active']].sum(axis=1)\n",
    "df['total_closed_loan'] = df[['personal_loan_closed', 'vehicle_loan_closed']].sum(axis=1)"
   ]
  },
  {
   "cell_type": "code",
   "execution_count": 261,
   "id": "3b7dff1b",
   "metadata": {},
   "outputs": [],
   "source": [
    "df.drop(columns=['cc_cons_apr', 'cc_cons_may', 'cc_cons_jun', 'dc_cons_apr', 'dc_cons_may', 'dc_cons_jun', \n",
    " 'cc_count_apr', 'cc_count_may', 'cc_count_jun',\n",
    "'dc_count_apr', 'dc_count_may', 'dc_count_jun',\n",
    "'credit_amount_apr', 'credit_amount_may', 'credit_amount_jun',\n",
    "'debit_amount_apr', 'debit_amount_may', 'debit_amount_jun',\n",
    "'credit_count_apr', 'credit_count_may', 'credit_count_jun',\n",
    "'debit_count_apr', 'debit_count_may', 'debit_count_jun',\n",
    "'max_credit_amount_apr', 'max_credit_amount_may', 'max_credit_amount_jun',\n",
    "'investment_1', 'investment_2', 'investment_3', 'investment_4',\n",
    "'personal_loan_active', 'vehicle_loan_active',\n",
    "'personal_loan_closed', 'vehicle_loan_closed'], inplace=True)"
   ]
  },
  {
   "cell_type": "code",
   "execution_count": 262,
   "id": "bbfe5ee5",
   "metadata": {},
   "outputs": [],
   "source": [
    "df.drop(columns=['Avg_days_between_transaction', 'region_code', 'NetBanking_Flag', 'Emp_Tenure_Years', 'Tenure_with_Bank', 'Income'], inplace=True) "
   ]
  },
  {
   "cell_type": "code",
   "execution_count": 263,
   "id": "fb3db6d0",
   "metadata": {},
   "outputs": [],
   "source": [
    "#Converting Categorical variables to Numeric values"
   ]
  },
  {
   "cell_type": "code",
   "execution_count": 264,
   "id": "09fb6b17",
   "metadata": {},
   "outputs": [
    {
     "data": {
      "text/plain": [
       "cc_cons              5000\n",
       "card_lim                0\n",
       "emi_active              0\n",
       "age                     0\n",
       "loan_enq                0\n",
       "account_type            0\n",
       "gender                  0\n",
       "old_cc_cons             0\n",
       "dc_cons                 0\n",
       "cc_count                0\n",
       "dc_count                0\n",
       "credit_amount           0\n",
       "debit_amount            0\n",
       "debit_count             0\n",
       "credit_count            0\n",
       "max_credit_amount       0\n",
       "investment              0\n",
       "total_active_loan       0\n",
       "total_closed_loan       0\n",
       "dtype: int64"
      ]
     },
     "execution_count": 264,
     "metadata": {},
     "output_type": "execute_result"
    }
   ],
   "source": [
    "df.isnull().sum()"
   ]
  },
  {
   "cell_type": "code",
   "execution_count": 265,
   "id": "842c5bb3",
   "metadata": {},
   "outputs": [
    {
     "data": {
      "text/plain": [
       "2    20000\n",
       "Name: total_active_loan, dtype: int64"
      ]
     },
     "execution_count": 265,
     "metadata": {},
     "output_type": "execute_result"
    }
   ],
   "source": [
    "df['total_active_loan'].value_counts()"
   ]
  },
  {
   "cell_type": "code",
   "execution_count": 266,
   "id": "6c750eda",
   "metadata": {},
   "outputs": [
    {
     "data": {
      "text/plain": [
       "Index(['cc_cons', 'card_lim', 'emi_active', 'age', 'loan_enq', 'account_type',\n",
       "       'gender', 'old_cc_cons', 'dc_cons', 'cc_count', 'dc_count',\n",
       "       'credit_amount', 'debit_amount', 'debit_count', 'credit_count',\n",
       "       'max_credit_amount', 'investment', 'total_active_loan',\n",
       "       'total_closed_loan'],\n",
       "      dtype='object')"
      ]
     },
     "execution_count": 266,
     "metadata": {},
     "output_type": "execute_result"
    }
   ],
   "source": [
    "df.columns"
   ]
  },
  {
   "cell_type": "code",
   "execution_count": 267,
   "id": "682475a9",
   "metadata": {},
   "outputs": [],
   "source": [
    "le = LabelEncoder()"
   ]
  },
  {
   "cell_type": "code",
   "execution_count": 268,
   "id": "0f35c0fd",
   "metadata": {},
   "outputs": [],
   "source": [
    "df['loan_enq'] = le.fit_transform(df['loan_enq'])\n",
    "df['account_type'] = le.fit_transform(df['account_type'])\n",
    "df['gender'] = le.fit_transform(df['gender'])"
   ]
  },
  {
   "cell_type": "markdown",
   "id": "5f705633",
   "metadata": {},
   "source": [
    "### Separate Labelled and Unlabelled data"
   ]
  },
  {
   "cell_type": "code",
   "execution_count": 269,
   "id": "9c4c724f",
   "metadata": {},
   "outputs": [],
   "source": [
    "df1 = df[df['cc_cons'].notna()]"
   ]
  },
  {
   "cell_type": "code",
   "execution_count": 270,
   "id": "f0694917",
   "metadata": {},
   "outputs": [
    {
     "data": {
      "text/plain": [
       "(15000, 19)"
      ]
     },
     "execution_count": 270,
     "metadata": {},
     "output_type": "execute_result"
    }
   ],
   "source": [
    "df1.shape"
   ]
  },
  {
   "cell_type": "code",
   "execution_count": 271,
   "id": "9a3d9925",
   "metadata": {},
   "outputs": [],
   "source": [
    "df1 = df1[['card_lim', 'emi_active', 'age', 'loan_enq', 'account_type',\n",
    "       'gender', 'old_cc_cons', 'dc_cons', 'cc_count', 'dc_count',\n",
    "       'credit_amount', 'debit_amount', 'debit_count', 'credit_count',\n",
    "       'max_credit_amount', 'investment', 'total_active_loan',\n",
    "       'total_closed_loan', 'cc_cons']]"
   ]
  },
  {
   "cell_type": "code",
   "execution_count": 272,
   "id": "758acd32",
   "metadata": {},
   "outputs": [],
   "source": [
    "df_test = df[df['cc_cons'].isna()]"
   ]
  },
  {
   "cell_type": "code",
   "execution_count": 273,
   "id": "e1e2cc9e",
   "metadata": {},
   "outputs": [
    {
     "data": {
      "text/plain": [
       "(5000, 19)"
      ]
     },
     "execution_count": 273,
     "metadata": {},
     "output_type": "execute_result"
    }
   ],
   "source": [
    "df_test.shape"
   ]
  },
  {
   "cell_type": "code",
   "execution_count": 274,
   "id": "773c8cff",
   "metadata": {},
   "outputs": [],
   "source": [
    "df_test.drop(columns='cc_cons', inplace=True)"
   ]
  },
  {
   "cell_type": "code",
   "execution_count": 275,
   "id": "30ac029d",
   "metadata": {},
   "outputs": [
    {
     "data": {
      "text/plain": [
       "(5000, 18)"
      ]
     },
     "execution_count": 275,
     "metadata": {},
     "output_type": "execute_result"
    }
   ],
   "source": [
    "df_test.shape"
   ]
  },
  {
   "cell_type": "code",
   "execution_count": 276,
   "id": "55b3e0dd",
   "metadata": {},
   "outputs": [
    {
     "data": {
      "text/plain": [
       "Index(['card_lim', 'emi_active', 'age', 'loan_enq', 'account_type', 'gender',\n",
       "       'old_cc_cons', 'dc_cons', 'cc_count', 'dc_count', 'credit_amount',\n",
       "       'debit_amount', 'debit_count', 'credit_count', 'max_credit_amount',\n",
       "       'investment', 'total_active_loan', 'total_closed_loan', 'cc_cons'],\n",
       "      dtype='object')"
      ]
     },
     "execution_count": 276,
     "metadata": {},
     "output_type": "execute_result"
    }
   ],
   "source": [
    "df1.columns"
   ]
  },
  {
   "cell_type": "code",
   "execution_count": 277,
   "id": "705a510a",
   "metadata": {},
   "outputs": [
    {
     "data": {
      "text/plain": [
       "Index(['card_lim', 'emi_active', 'age', 'loan_enq', 'account_type', 'gender',\n",
       "       'old_cc_cons', 'dc_cons', 'cc_count', 'dc_count', 'credit_amount',\n",
       "       'debit_amount', 'debit_count', 'credit_count', 'max_credit_amount',\n",
       "       'investment', 'total_active_loan', 'total_closed_loan'],\n",
       "      dtype='object')"
      ]
     },
     "execution_count": 277,
     "metadata": {},
     "output_type": "execute_result"
    }
   ],
   "source": [
    "df_test.columns"
   ]
  },
  {
   "cell_type": "markdown",
   "id": "619da682",
   "metadata": {},
   "source": [
    "### Split the dataset into train-test"
   ]
  },
  {
   "cell_type": "code",
   "execution_count": 278,
   "id": "ca851949",
   "metadata": {},
   "outputs": [],
   "source": [
    "X = df1.iloc[:, :-1]\n",
    "Y = df1.loc[:, 'cc_cons']"
   ]
  },
  {
   "cell_type": "code",
   "execution_count": 279,
   "id": "b61dbff7",
   "metadata": {},
   "outputs": [],
   "source": [
    "x_train, x_test, y_train, y_test = train_test_split(X, Y, test_size=0.20, random_state=1)"
   ]
  },
  {
   "cell_type": "code",
   "execution_count": 280,
   "id": "aa42d863",
   "metadata": {},
   "outputs": [
    {
     "data": {
      "text/plain": [
       "((12000, 18), (3000, 18), (12000,), (3000,))"
      ]
     },
     "execution_count": 280,
     "metadata": {},
     "output_type": "execute_result"
    }
   ],
   "source": [
    "x_train.shape, x_test.shape, y_train.shape, y_test.shape"
   ]
  },
  {
   "cell_type": "markdown",
   "id": "3ca316f3",
   "metadata": {},
   "source": [
    "### Model Building"
   ]
  },
  {
   "cell_type": "code",
   "execution_count": 281,
   "id": "d1f7bd68",
   "metadata": {},
   "outputs": [],
   "source": [
    "models=[LinearRegression(), DecisionTreeRegressor(), AdaBoostRegressor(), RandomForestRegressor(), SVR(), Lasso(), Ridge(), BaggingRegressor(), GradientBoostingRegressor(), KNeighborsRegressor()]\n",
    "\n",
    "model_names=['Linear Regression' ,'DecisionTreeRegressor', 'AdaBoostRegressor', 'RandomForestRegressor', 'SVR', 'Lasso', 'Ridge', 'BaggingRegressor', 'GradientBoostingRegressor', 'KNeighborsRegressor']\n",
    "\n",
    "\n",
    "rmse=[]\n",
    "mae=[]\n",
    "mape=[]\n",
    "mse=[]\n",
    "r2s=[]\n",
    "d={}\n",
    "lst={}\n",
    "\n",
    "for model in models:\n",
    "    clf=model\n",
    "    clf.fit(x_train,y_train)\n",
    "    y_pred=clf.predict(x_test)\n",
    "    rmse.append(np.sqrt(np.mean(np.square(np.log1p(y_pred) - np.log1p(y_test)))))\n",
    "    \n",
    "d={'Modelling_Algo':model_names,'RMSE':rmse}"
   ]
  },
  {
   "cell_type": "markdown",
   "id": "411bae3f",
   "metadata": {},
   "source": [
    "### Metrics Evaluation"
   ]
  },
  {
   "cell_type": "code",
   "execution_count": 282,
   "id": "d3fc4c34",
   "metadata": {},
   "outputs": [],
   "source": [
    "rmse_df = pd.DataFrame(d)"
   ]
  },
  {
   "cell_type": "code",
   "execution_count": 283,
   "id": "2d9dd175",
   "metadata": {},
   "outputs": [
    {
     "data": {
      "text/html": [
       "<div>\n",
       "<style scoped>\n",
       "    .dataframe tbody tr th:only-of-type {\n",
       "        vertical-align: middle;\n",
       "    }\n",
       "\n",
       "    .dataframe tbody tr th {\n",
       "        vertical-align: top;\n",
       "    }\n",
       "\n",
       "    .dataframe thead th {\n",
       "        text-align: right;\n",
       "    }\n",
       "</style>\n",
       "<table border=\"1\" class=\"dataframe\">\n",
       "  <thead>\n",
       "    <tr style=\"text-align: right;\">\n",
       "      <th></th>\n",
       "      <th>Modelling_Algo</th>\n",
       "      <th>RMSE</th>\n",
       "    </tr>\n",
       "  </thead>\n",
       "  <tbody>\n",
       "    <tr>\n",
       "      <th>0</th>\n",
       "      <td>Linear Regression</td>\n",
       "      <td>1.221558</td>\n",
       "    </tr>\n",
       "    <tr>\n",
       "      <th>1</th>\n",
       "      <td>DecisionTreeRegressor</td>\n",
       "      <td>1.589258</td>\n",
       "    </tr>\n",
       "    <tr>\n",
       "      <th>2</th>\n",
       "      <td>AdaBoostRegressor</td>\n",
       "      <td>1.281079</td>\n",
       "    </tr>\n",
       "    <tr>\n",
       "      <th>3</th>\n",
       "      <td>RandomForestRegressor</td>\n",
       "      <td>1.237368</td>\n",
       "    </tr>\n",
       "    <tr>\n",
       "      <th>4</th>\n",
       "      <td>SVR</td>\n",
       "      <td>1.159413</td>\n",
       "    </tr>\n",
       "    <tr>\n",
       "      <th>5</th>\n",
       "      <td>Lasso</td>\n",
       "      <td>1.221558</td>\n",
       "    </tr>\n",
       "    <tr>\n",
       "      <th>6</th>\n",
       "      <td>Ridge</td>\n",
       "      <td>1.221560</td>\n",
       "    </tr>\n",
       "    <tr>\n",
       "      <th>7</th>\n",
       "      <td>BaggingRegressor</td>\n",
       "      <td>1.246144</td>\n",
       "    </tr>\n",
       "    <tr>\n",
       "      <th>8</th>\n",
       "      <td>GradientBoostingRegressor</td>\n",
       "      <td>1.219714</td>\n",
       "    </tr>\n",
       "    <tr>\n",
       "      <th>9</th>\n",
       "      <td>KNeighborsRegressor</td>\n",
       "      <td>1.259058</td>\n",
       "    </tr>\n",
       "  </tbody>\n",
       "</table>\n",
       "</div>"
      ],
      "text/plain": [
       "              Modelling_Algo      RMSE\n",
       "0          Linear Regression  1.221558\n",
       "1      DecisionTreeRegressor  1.589258\n",
       "2          AdaBoostRegressor  1.281079\n",
       "3      RandomForestRegressor  1.237368\n",
       "4                        SVR  1.159413\n",
       "5                      Lasso  1.221558\n",
       "6                      Ridge  1.221560\n",
       "7           BaggingRegressor  1.246144\n",
       "8  GradientBoostingRegressor  1.219714\n",
       "9        KNeighborsRegressor  1.259058"
      ]
     },
     "execution_count": 283,
     "metadata": {},
     "output_type": "execute_result"
    }
   ],
   "source": [
    "rmse_df"
   ]
  },
  {
   "cell_type": "markdown",
   "id": "be3883cf",
   "metadata": {},
   "source": [
    "### Model Selection for value prediction"
   ]
  },
  {
   "cell_type": "code",
   "execution_count": 284,
   "id": "dc32b255",
   "metadata": {},
   "outputs": [
    {
     "data": {
      "text/plain": [
       "<Axes: xlabel='RMSE', ylabel='Modelling_Algo'>"
      ]
     },
     "execution_count": 284,
     "metadata": {},
     "output_type": "execute_result"
    },
    {
     "data": {
      "image/png": "[encoded data removed]",
      "text/plain": [
       "<Figure size 640x480 with 1 Axes>"
      ]
     },
     "metadata": {},
     "output_type": "display_data"
    }
   ],
   "source": [
    "sns.barplot(data=rmse_df, x='RMSE', y='Modelling_Algo')"
   ]
  },
  {
   "cell_type": "code",
   "execution_count": 285,
   "id": "5a56bc77",
   "metadata": {},
   "outputs": [
    {
     "data": {
      "text/plain": [
       "<Axes: xlabel='RMSE', ylabel='Modelling_Algo'>"
      ]
     },
     "execution_count": 285,
     "metadata": {},
     "output_type": "execute_result"
    },
    {
     "data": {
      "image/png": "[encoded data removed]",
      "text/plain": [
       "<Figure size 800x600 with 1 Axes>"
      ]
     },
     "metadata": {},
     "output_type": "display_data"
    }
   ],
   "source": [
    "plt.figure(figsize=(8, 6))\n",
    "sns.pointplot(data=rmse_df, x='RMSE', y='Modelling_Algo')"
   ]
  },
  {
   "cell_type": "markdown",
   "id": "f1495b1e",
   "metadata": {},
   "source": [
    "### Predict Values with selected model"
   ]
  },
  {
   "cell_type": "code",
   "execution_count": 286,
   "id": "6cd9ebd4",
   "metadata": {},
   "outputs": [],
   "source": [
    "# SVR has a least RMSE score to we will go with SVR for predict values"
   ]
  },
  {
   "cell_type": "code",
   "execution_count": 287,
   "id": "53f07a33",
   "metadata": {},
   "outputs": [],
   "source": [
    "from sklearn.svm import SVR"
   ]
  },
  {
   "cell_type": "code",
   "execution_count": 288,
   "id": "a38c7ab8",
   "metadata": {},
   "outputs": [],
   "source": [
    "svr = SVR(kernel='rbf')"
   ]
  },
  {
   "cell_type": "code",
   "execution_count": 289,
   "id": "b2290828",
   "metadata": {},
   "outputs": [
    {
     "data": {
      "text/html": [
       "<style>#sk-container-id-2 {color: black;background-color: white;}#sk-container-id-2 pre{padding: 0;}#sk-container-id-2 div.sk-toggleable {background-color: white;}#sk-container-id-2 label.sk-toggleable__label {cursor: pointer;display: block;width: 100%;margin-bottom: 0;padding: 0.3em;box-sizing: border-box;text-align: center;}#sk-container-id-2 label.sk-toggleable__label-arrow:before {content: \"▸\";float: left;margin-right: 0.25em;color: #696969;}#sk-container-id-2 label.sk-toggleable__label-arrow:hover:before {color: black;}#sk-container-id-2 div.sk-estimator:hover label.sk-toggleable__label-arrow:before {color: black;}#sk-container-id-2 div.sk-toggleable__content {max-height: 0;max-width: 0;overflow: hidden;text-align: left;background-color: #f0f8ff;}#sk-container-id-2 div.sk-toggleable__content pre {margin: 0.2em;color: black;border-radius: 0.25em;background-color: #f0f8ff;}#sk-container-id-2 input.sk-toggleable__control:checked~div.sk-toggleable__content {max-height: 200px;max-width: 100%;overflow: auto;}#sk-container-id-2 input.sk-toggleable__control:checked~label.sk-toggleable__label-arrow:before {content: \"▾\";}#sk-container-id-2 div.sk-estimator input.sk-toggleable__control:checked~label.sk-toggleable__label {background-color: #d4ebff;}#sk-container-id-2 div.sk-label input.sk-toggleable__control:checked~label.sk-toggleable__label {background-color: #d4ebff;}#sk-container-id-2 input.sk-hidden--visually {border: 0;clip: rect(1px 1px 1px 1px);clip: rect(1px, 1px, 1px, 1px);height: 1px;margin: -1px;overflow: hidden;padding: 0;position: absolute;width: 1px;}#sk-container-id-2 div.sk-estimator {font-family: monospace;background-color: #f0f8ff;border: 1px dotted black;border-radius: 0.25em;box-sizing: border-box;margin-bottom: 0.5em;}#sk-container-id-2 div.sk-estimator:hover {background-color: #d4ebff;}#sk-container-id-2 div.sk-parallel-item::after {content: \"\";width: 100%;border-bottom: 1px solid gray;flex-grow: 1;}#sk-container-id-2 div.sk-label:hover label.sk-toggleable__label {background-color: #d4ebff;}#sk-container-id-2 div.sk-serial::before {content: \"\";position: absolute;border-left: 1px solid gray;box-sizing: border-box;top: 0;bottom: 0;left: 50%;z-index: 0;}#sk-container-id-2 div.sk-serial {display: flex;flex-direction: column;align-items: center;background-color: white;padding-right: 0.2em;padding-left: 0.2em;position: relative;}#sk-container-id-2 div.sk-item {position: relative;z-index: 1;}#sk-container-id-2 div.sk-parallel {display: flex;align-items: stretch;justify-content: center;background-color: white;position: relative;}#sk-container-id-2 div.sk-item::before, #sk-container-id-2 div.sk-parallel-item::before {content: \"\";position: absolute;border-left: 1px solid gray;box-sizing: border-box;top: 0;bottom: 0;left: 50%;z-index: -1;}#sk-container-id-2 div.sk-parallel-item {display: flex;flex-direction: column;z-index: 1;position: relative;background-color: white;}#sk-container-id-2 div.sk-parallel-item:first-child::after {align-self: flex-end;width: 50%;}#sk-container-id-2 div.sk-parallel-item:last-child::after {align-self: flex-start;width: 50%;}#sk-container-id-2 div.sk-parallel-item:only-child::after {width: 0;}#sk-container-id-2 div.sk-dashed-wrapped {border: 1px dashed gray;margin: 0 0.4em 0.5em 0.4em;box-sizing: border-box;padding-bottom: 0.4em;background-color: white;}#sk-container-id-2 div.sk-label label {font-family: monospace;font-weight: bold;display: inline-block;line-height: 1.2em;}#sk-container-id-2 div.sk-label-container {text-align: center;}#sk-container-id-2 div.sk-container {/* jupyter's `normalize.less` sets `[hidden] { display: none; }` but bootstrap.min.css set `[hidden] { display: none !important; }` so we also need the `!important` here to be able to override the default hidden behavior on the sphinx rendered scikit-learn.org. See: https://github.com/scikit-learn/scikit-learn/issues/21755 */display: inline-block !important;position: relative;}#sk-container-id-2 div.sk-text-repr-fallback {display: none;}</style><div id=\"sk-container-id-2\" class=\"sk-top-container\"><div class=\"sk-text-repr-fallback\"><pre>SVR()</pre><b>In a Jupyter environment, please rerun this cell to show the HTML representation or trust the notebook. <br />On GitHub, the HTML representation is unable to render, please try loading this page with nbviewer.org.</b></div><div class=\"sk-container\" hidden><div class=\"sk-item\"><div class=\"sk-estimator sk-toggleable\"><input class=\"sk-toggleable__control sk-hidden--visually\" id=\"sk-estimator-id-2\" type=\"checkbox\" checked><label for=\"sk-estimator-id-2\" class=\"sk-toggleable__label sk-toggleable__label-arrow\">SVR</label><div class=\"sk-toggleable__content\"><pre>SVR()</pre></div></div></div></div></div>"
      ],
      "text/plain": [
       "SVR()"
      ]
     },
     "execution_count": 289,
     "metadata": {},
     "output_type": "execute_result"
    }
   ],
   "source": [
    "svr.fit(x_train, y_train)"
   ]
  },
  {
   "cell_type": "code",
   "execution_count": 290,
   "id": "ca587388",
   "metadata": {},
   "outputs": [],
   "source": [
    "sv_y_pred = svr.predict(df_test)"
   ]
  },
  {
   "cell_type": "code",
   "execution_count": 291,
   "id": "bfcdde2c",
   "metadata": {},
   "outputs": [],
   "source": [
    "submission_df= pd.DataFrame({\n",
    "        \"id\": df_test_ID,\n",
    "        \"cc_cons\": sv_y_pred\n",
    "    })"
   ]
  },
  {
   "cell_type": "code",
   "execution_count": 292,
   "id": "9086d0f6",
   "metadata": {},
   "outputs": [],
   "source": [
    "submission_df = sub_svr.reset_index(drop=True)"
   ]
  },
  {
   "cell_type": "code",
   "execution_count": 293,
   "id": "aa4e08ee",
   "metadata": {},
   "outputs": [
    {
     "data": {
      "text/html": [
       "<div>\n",
       "<style scoped>\n",
       "    .dataframe tbody tr th:only-of-type {\n",
       "        vertical-align: middle;\n",
       "    }\n",
       "\n",
       "    .dataframe tbody tr th {\n",
       "        vertical-align: top;\n",
       "    }\n",
       "\n",
       "    .dataframe thead th {\n",
       "        text-align: right;\n",
       "    }\n",
       "</style>\n",
       "<table border=\"1\" class=\"dataframe\">\n",
       "  <thead>\n",
       "    <tr style=\"text-align: right;\">\n",
       "      <th></th>\n",
       "      <th>id</th>\n",
       "      <th>cc_cons</th>\n",
       "    </tr>\n",
       "  </thead>\n",
       "  <tbody>\n",
       "    <tr>\n",
       "      <th>0</th>\n",
       "      <td>17591</td>\n",
       "      <td>13349.244300</td>\n",
       "    </tr>\n",
       "    <tr>\n",
       "      <th>1</th>\n",
       "      <td>13541</td>\n",
       "      <td>13349.931279</td>\n",
       "    </tr>\n",
       "    <tr>\n",
       "      <th>2</th>\n",
       "      <td>13431</td>\n",
       "      <td>13350.408659</td>\n",
       "    </tr>\n",
       "    <tr>\n",
       "      <th>3</th>\n",
       "      <td>8687</td>\n",
       "      <td>13348.904968</td>\n",
       "    </tr>\n",
       "    <tr>\n",
       "      <th>4</th>\n",
       "      <td>14727</td>\n",
       "      <td>13382.299115</td>\n",
       "    </tr>\n",
       "    <tr>\n",
       "      <th>...</th>\n",
       "      <td>...</td>\n",
       "      <td>...</td>\n",
       "    </tr>\n",
       "    <tr>\n",
       "      <th>4995</th>\n",
       "      <td>12512</td>\n",
       "      <td>13350.979164</td>\n",
       "    </tr>\n",
       "    <tr>\n",
       "      <th>4996</th>\n",
       "      <td>14224</td>\n",
       "      <td>13361.929316</td>\n",
       "    </tr>\n",
       "    <tr>\n",
       "      <th>4997</th>\n",
       "      <td>18740</td>\n",
       "      <td>13349.114663</td>\n",
       "    </tr>\n",
       "    <tr>\n",
       "      <th>4998</th>\n",
       "      <td>18134</td>\n",
       "      <td>13348.592378</td>\n",
       "    </tr>\n",
       "    <tr>\n",
       "      <th>4999</th>\n",
       "      <td>12413</td>\n",
       "      <td>13355.822770</td>\n",
       "    </tr>\n",
       "  </tbody>\n",
       "</table>\n",
       "<p>5000 rows × 2 columns</p>\n",
       "</div>"
      ],
      "text/plain": [
       "         id       cc_cons\n",
       "0     17591  13349.244300\n",
       "1     13541  13349.931279\n",
       "2     13431  13350.408659\n",
       "3      8687  13348.904968\n",
       "4     14727  13382.299115\n",
       "...     ...           ...\n",
       "4995  12512  13350.979164\n",
       "4996  14224  13361.929316\n",
       "4997  18740  13349.114663\n",
       "4998  18134  13348.592378\n",
       "4999  12413  13355.822770\n",
       "\n",
       "[5000 rows x 2 columns]"
      ]
     },
     "execution_count": 293,
     "metadata": {},
     "output_type": "execute_result"
    }
   ],
   "source": [
    "submission_df"
   ]
  },
  {
   "cell_type": "code",
   "execution_count": 294,
   "id": "6109cf0f",
   "metadata": {},
   "outputs": [],
   "source": [
    "submission_df.to_csv(\"submission.csv\", index= False)"
   ]
  },
  {
   "cell_type": "code",
   "execution_count": 295,
   "id": "04ae280c",
   "metadata": {},
   "outputs": [],
   "source": [
    "sb = pd.read_csv(\"submission.csv\")"
   ]
  },
  {
   "cell_type": "code",
   "execution_count": 296,
   "id": "2a152b32",
   "metadata": {},
   "outputs": [
    {
     "data": {
      "text/html": [
       "<div>\n",
       "<style scoped>\n",
       "    .dataframe tbody tr th:only-of-type {\n",
       "        vertical-align: middle;\n",
       "    }\n",
       "\n",
       "    .dataframe tbody tr th {\n",
       "        vertical-align: top;\n",
       "    }\n",
       "\n",
       "    .dataframe thead th {\n",
       "        text-align: right;\n",
       "    }\n",
       "</style>\n",
       "<table border=\"1\" class=\"dataframe\">\n",
       "  <thead>\n",
       "    <tr style=\"text-align: right;\">\n",
       "      <th></th>\n",
       "      <th>id</th>\n",
       "      <th>cc_cons</th>\n",
       "    </tr>\n",
       "  </thead>\n",
       "  <tbody>\n",
       "    <tr>\n",
       "      <th>0</th>\n",
       "      <td>17591</td>\n",
       "      <td>13349.244300</td>\n",
       "    </tr>\n",
       "    <tr>\n",
       "      <th>1</th>\n",
       "      <td>13541</td>\n",
       "      <td>13349.931279</td>\n",
       "    </tr>\n",
       "    <tr>\n",
       "      <th>2</th>\n",
       "      <td>13431</td>\n",
       "      <td>13350.408659</td>\n",
       "    </tr>\n",
       "    <tr>\n",
       "      <th>3</th>\n",
       "      <td>8687</td>\n",
       "      <td>13348.904968</td>\n",
       "    </tr>\n",
       "    <tr>\n",
       "      <th>4</th>\n",
       "      <td>14727</td>\n",
       "      <td>13382.299115</td>\n",
       "    </tr>\n",
       "    <tr>\n",
       "      <th>...</th>\n",
       "      <td>...</td>\n",
       "      <td>...</td>\n",
       "    </tr>\n",
       "    <tr>\n",
       "      <th>4995</th>\n",
       "      <td>12512</td>\n",
       "      <td>13350.979164</td>\n",
       "    </tr>\n",
       "    <tr>\n",
       "      <th>4996</th>\n",
       "      <td>14224</td>\n",
       "      <td>13361.929316</td>\n",
       "    </tr>\n",
       "    <tr>\n",
       "      <th>4997</th>\n",
       "      <td>18740</td>\n",
       "      <td>13349.114663</td>\n",
       "    </tr>\n",
       "    <tr>\n",
       "      <th>4998</th>\n",
       "      <td>18134</td>\n",
       "      <td>13348.592378</td>\n",
       "    </tr>\n",
       "    <tr>\n",
       "      <th>4999</th>\n",
       "      <td>12413</td>\n",
       "      <td>13355.822770</td>\n",
       "    </tr>\n",
       "  </tbody>\n",
       "</table>\n",
       "<p>5000 rows × 2 columns</p>\n",
       "</div>"
      ],
      "text/plain": [
       "         id       cc_cons\n",
       "0     17591  13349.244300\n",
       "1     13541  13349.931279\n",
       "2     13431  13350.408659\n",
       "3      8687  13348.904968\n",
       "4     14727  13382.299115\n",
       "...     ...           ...\n",
       "4995  12512  13350.979164\n",
       "4996  14224  13361.929316\n",
       "4997  18740  13349.114663\n",
       "4998  18134  13348.592378\n",
       "4999  12413  13355.822770\n",
       "\n",
       "[5000 rows x 2 columns]"
      ]
     },
     "execution_count": 296,
     "metadata": {},
     "output_type": "execute_result"
    }
   ],
   "source": [
    "sb"
   ]
  },
  {
   "cell_type": "code",
   "execution_count": null,
   "id": "bb9082f8",
   "metadata": {},
   "outputs": [],
   "source": []
  }
 ],
 "metadata": {
  "kernelspec": {
   "display_name": "Python 3 (ipykernel)",
   "language": "python",
   "name": "python3"
  },
  "language_info": {
   "codemirror_mode": {
    "name": "ipython",
    "version": 3
   },
   "file_extension": ".py",
   "mimetype": "text/x-python",
   "name": "python",
   "nbconvert_exporter": "python",
   "pygments_lexer": "ipython3",
   "version": "3.11.3"
  }
 },
 "nbformat": 4,
 "nbformat_minor": 5
}
